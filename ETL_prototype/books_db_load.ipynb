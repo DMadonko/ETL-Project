{
 "cells": [
  {
   "cell_type": "code",
   "execution_count": null,
   "metadata": {},
   "outputs": [],
   "source": [
    "import pandas as pd\n",
    "from sqlalchemy import create_engine\n",
    "from config import sql_password"
   ]
  },
  {
   "cell_type": "markdown",
   "metadata": {},
   "source": [
    "### Create database connection"
   ]
  },
  {
   "cell_type": "code",
   "execution_count": null,
   "metadata": {},
   "outputs": [],
   "source": [
    "rds_connection_string = (f\"postgres:{sql_password}@localhost:5432/books_db\")\n",
    "engine = create_engine(f'postgresql://{rds_connection_string}')"
   ]
  },
  {
   "cell_type": "markdown",
   "metadata": {},
   "source": [
    "### Load DataFrames into database"
   ]
  },
  {
   "cell_type": "code",
   "execution_count": null,
   "metadata": {},
   "outputs": [],
   "source": [
    "mainData2.to_sql(name='book_titles', con=engine, if_exists='append', index=False)\n",
    "categoryDF.to_sql(name='category', con=engine, if_exists='append', index=False)\n",
    "isbn_categoryDF.to_sql(name='isbn_category', con=engine, if_exists='append', index=False)\n",
    "authorDF.to_sql(name='book_titles', con=engine, if_exists='append', index=False)\n",
    "isbn_authorDF.to_sql(name='author', con=engine, if_exists='append', index=False)\n",
    "print_typeDF.to_sql(name='print_type', con=engine, if_exists='append', index=False)\n",
    "googlebooks_dataDF.to_sql(name='google_books', con=engine, if_exists='append', index=False)"
   ]
  }
 ],
 "metadata": {
  "kernelspec": {
   "display_name": "Python [conda env:.conda-PythonData] *",
   "language": "python",
   "name": "conda-env-.conda-PythonData-py"
  },
  "language_info": {
   "codemirror_mode": {
    "name": "ipython",
    "version": 3
   },
   "file_extension": ".py",
   "mimetype": "text/x-python",
   "name": "python",
   "nbconvert_exporter": "python",
   "pygments_lexer": "ipython3",
   "version": "3.6.10"
  }
 },
 "nbformat": 4,
 "nbformat_minor": 4
}
